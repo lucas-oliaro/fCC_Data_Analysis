{
  "cells": [
    {
      "cell_type": "code",
      "source": [
        "from google.colab import drive\n",
        "drive.mount('/content/drive')"
      ],
      "metadata": {
        "id": "VNOLlV8QP7uj",
        "outputId": "e660755c-910b-43c7-b27b-7203feb3ffd5",
        "colab": {
          "base_uri": "https://localhost:8080/"
        }
      },
      "id": "VNOLlV8QP7uj",
      "execution_count": 3,
      "outputs": [
        {
          "output_type": "stream",
          "name": "stdout",
          "text": [
            "Mounted at /content/drive\n"
          ]
        }
      ]
    },
    {
      "cell_type": "markdown",
      "source": [
        "### Librerias"
      ],
      "metadata": {
        "id": "5RB5QufAQE74"
      },
      "id": "5RB5QufAQE74"
    },
    {
      "cell_type": "code",
      "source": [
        "import numpy as np\n",
        "import matplotlib.pyplot as plt"
      ],
      "metadata": {
        "id": "u4rd3jebPdJw"
      },
      "id": "u4rd3jebPdJw",
      "execution_count": 4,
      "outputs": []
    },
    {
      "cell_type": "code",
      "source": [
        "import pandas as pd"
      ],
      "metadata": {
        "id": "fiWBCEP4QQ0K"
      },
      "id": "fiWBCEP4QQ0K",
      "execution_count": 5,
      "outputs": []
    },
    {
      "cell_type": "code",
      "source": [
        "import requests"
      ],
      "metadata": {
        "id": "CxxJN9F_QVlv"
      },
      "id": "CxxJN9F_QVlv",
      "execution_count": 6,
      "outputs": []
    },
    {
      "cell_type": "code",
      "source": [],
      "metadata": {
        "id": "YC1q3QGgQYRQ"
      },
      "id": "YC1q3QGgQYRQ",
      "execution_count": null,
      "outputs": []
    },
    {
      "cell_type": "markdown",
      "source": [
        "### Code\n"
      ],
      "metadata": {
        "id": "B0hQjfi_Qghs"
      },
      "id": "B0hQjfi_Qghs"
    },
    {
      "cell_type": "code",
      "source": [
        "\n",
        "def get_historic_price(symbol, exchange='bitfinex', after='2018-09-01'):\n",
        "    ''' Busca informacion en la API de cryptowat de la moneda que se pida,\n",
        "    y devuelve un dataframe con la saiguiente informacion\n",
        "     'CloseTime', 'OpenPrice', 'HighPrice', 'LowPrice', 'ClosePrice', 'Volume', 'NA'\n",
        "    '''\n",
        "    url = 'https://api.cryptowat.ch/markets/{exchange}/{symbol}usd/ohlc'.format(\n",
        "        symbol=symbol, exchange=exchange)\n",
        "    resp = requests.get(url, params={\n",
        "        'periods': '3600',\n",
        "        'after': str(int(pd.Timestamp(after).timestamp()))\n",
        "    })\n",
        "    resp.raise_for_status()\n",
        "    data = resp.json()\n",
        "    df = pd.DataFrame(data['result']['3600'], columns=[\n",
        "        'CloseTime', 'OpenPrice', 'HighPrice', 'LowPrice', 'ClosePrice', 'Volume', 'NA'\n",
        "    ])\n",
        "    df['CloseTime'] = pd.to_datetime(df['CloseTime'], unit='s')\n",
        "    df.set_index('CloseTime', inplace=True)\n",
        "    return df"
      ],
      "metadata": {
        "id": "mlCZU8icQpP7"
      },
      "id": "mlCZU8icQpP7",
      "execution_count": 7,
      "outputs": []
    },
    {
      "cell_type": "markdown",
      "source": [
        "Obtengo informacion de la ultima semana\n"
      ],
      "metadata": {
        "id": "SDYEOO8CRmv5"
      },
      "id": "SDYEOO8CRmv5"
    },
    {
      "cell_type": "code",
      "source": [
        "last_week = (pd.Timestamp.now() - pd.offsets.Day(30))"
      ],
      "metadata": {
        "id": "J-2BLLJIRiSG"
      },
      "id": "J-2BLLJIRiSG",
      "execution_count": 12,
      "outputs": []
    },
    {
      "cell_type": "code",
      "source": [
        "btc = get_historic_price('btc', 'bitstamp', after=last_week)"
      ],
      "metadata": {
        "id": "ZOgqyi4OR4nK"
      },
      "id": "ZOgqyi4OR4nK",
      "execution_count": 13,
      "outputs": []
    },
    {
      "cell_type": "code",
      "source": [
        "eth = get_historic_price('eth', 'bitstamp', after=last_week)"
      ],
      "metadata": {
        "id": "Zmx39orXSBC9"
      },
      "id": "Zmx39orXSBC9",
      "execution_count": 14,
      "outputs": []
    },
    {
      "cell_type": "code",
      "source": [
        "dai =get_historic_price('dai', 'bitstamp', after = last_week)"
      ],
      "metadata": {
        "id": "X7UJ1f9HTI3V"
      },
      "id": "X7UJ1f9HTI3V",
      "execution_count": 20,
      "outputs": []
    },
    {
      "cell_type": "markdown",
      "source": [
        "BITCOIN\n"
      ],
      "metadata": {
        "id": "LVZEiLxASU2_"
      },
      "id": "LVZEiLxASU2_"
    },
    {
      "cell_type": "code",
      "source": [
        "eth.head()"
      ],
      "metadata": {
        "id": "4TIi3iqcTDiB",
        "outputId": "065800ea-9a35-431d-e0cc-b96bed91b611",
        "colab": {
          "base_uri": "https://localhost:8080/",
          "height": 237
        }
      },
      "id": "4TIi3iqcTDiB",
      "execution_count": 19,
      "outputs": [
        {
          "output_type": "execute_result",
          "data": {
            "text/plain": [
              "                     OpenPrice  HighPrice  LowPrice  ClosePrice      Volume  \\\n",
              "CloseTime                                                                     \n",
              "2022-11-06 12:00:00     1628.4     1629.3    1609.9      1620.0  525.736504   \n",
              "2022-11-06 13:00:00     1620.3     1624.7    1616.8      1618.9  152.372058   \n",
              "2022-11-06 14:00:00     1618.8     1623.0    1616.1      1621.8  130.427293   \n",
              "2022-11-06 15:00:00     1621.8     1631.2    1618.4      1626.2  129.005444   \n",
              "2022-11-06 16:00:00     1626.7     1633.4    1624.4      1624.4  181.931803   \n",
              "\n",
              "                                NA  \n",
              "CloseTime                           \n",
              "2022-11-06 12:00:00  850631.463045  \n",
              "2022-11-06 13:00:00  247076.760535  \n",
              "2022-11-06 14:00:00  211393.683480  \n",
              "2022-11-06 15:00:00  209717.531133  \n",
              "2022-11-06 16:00:00  296337.676335  "
            ],
            "text/html": [
              "\n",
              "  <div id=\"df-c34c2ae1-4c4c-4bcc-8241-66d96f4202aa\">\n",
              "    <div class=\"colab-df-container\">\n",
              "      <div>\n",
              "<style scoped>\n",
              "    .dataframe tbody tr th:only-of-type {\n",
              "        vertical-align: middle;\n",
              "    }\n",
              "\n",
              "    .dataframe tbody tr th {\n",
              "        vertical-align: top;\n",
              "    }\n",
              "\n",
              "    .dataframe thead th {\n",
              "        text-align: right;\n",
              "    }\n",
              "</style>\n",
              "<table border=\"1\" class=\"dataframe\">\n",
              "  <thead>\n",
              "    <tr style=\"text-align: right;\">\n",
              "      <th></th>\n",
              "      <th>OpenPrice</th>\n",
              "      <th>HighPrice</th>\n",
              "      <th>LowPrice</th>\n",
              "      <th>ClosePrice</th>\n",
              "      <th>Volume</th>\n",
              "      <th>NA</th>\n",
              "    </tr>\n",
              "    <tr>\n",
              "      <th>CloseTime</th>\n",
              "      <th></th>\n",
              "      <th></th>\n",
              "      <th></th>\n",
              "      <th></th>\n",
              "      <th></th>\n",
              "      <th></th>\n",
              "    </tr>\n",
              "  </thead>\n",
              "  <tbody>\n",
              "    <tr>\n",
              "      <th>2022-11-06 12:00:00</th>\n",
              "      <td>1628.4</td>\n",
              "      <td>1629.3</td>\n",
              "      <td>1609.9</td>\n",
              "      <td>1620.0</td>\n",
              "      <td>525.736504</td>\n",
              "      <td>850631.463045</td>\n",
              "    </tr>\n",
              "    <tr>\n",
              "      <th>2022-11-06 13:00:00</th>\n",
              "      <td>1620.3</td>\n",
              "      <td>1624.7</td>\n",
              "      <td>1616.8</td>\n",
              "      <td>1618.9</td>\n",
              "      <td>152.372058</td>\n",
              "      <td>247076.760535</td>\n",
              "    </tr>\n",
              "    <tr>\n",
              "      <th>2022-11-06 14:00:00</th>\n",
              "      <td>1618.8</td>\n",
              "      <td>1623.0</td>\n",
              "      <td>1616.1</td>\n",
              "      <td>1621.8</td>\n",
              "      <td>130.427293</td>\n",
              "      <td>211393.683480</td>\n",
              "    </tr>\n",
              "    <tr>\n",
              "      <th>2022-11-06 15:00:00</th>\n",
              "      <td>1621.8</td>\n",
              "      <td>1631.2</td>\n",
              "      <td>1618.4</td>\n",
              "      <td>1626.2</td>\n",
              "      <td>129.005444</td>\n",
              "      <td>209717.531133</td>\n",
              "    </tr>\n",
              "    <tr>\n",
              "      <th>2022-11-06 16:00:00</th>\n",
              "      <td>1626.7</td>\n",
              "      <td>1633.4</td>\n",
              "      <td>1624.4</td>\n",
              "      <td>1624.4</td>\n",
              "      <td>181.931803</td>\n",
              "      <td>296337.676335</td>\n",
              "    </tr>\n",
              "  </tbody>\n",
              "</table>\n",
              "</div>\n",
              "      <button class=\"colab-df-convert\" onclick=\"convertToInteractive('df-c34c2ae1-4c4c-4bcc-8241-66d96f4202aa')\"\n",
              "              title=\"Convert this dataframe to an interactive table.\"\n",
              "              style=\"display:none;\">\n",
              "        \n",
              "  <svg xmlns=\"http://www.w3.org/2000/svg\" height=\"24px\"viewBox=\"0 0 24 24\"\n",
              "       width=\"24px\">\n",
              "    <path d=\"M0 0h24v24H0V0z\" fill=\"none\"/>\n",
              "    <path d=\"M18.56 5.44l.94 2.06.94-2.06 2.06-.94-2.06-.94-.94-2.06-.94 2.06-2.06.94zm-11 1L8.5 8.5l.94-2.06 2.06-.94-2.06-.94L8.5 2.5l-.94 2.06-2.06.94zm10 10l.94 2.06.94-2.06 2.06-.94-2.06-.94-.94-2.06-.94 2.06-2.06.94z\"/><path d=\"M17.41 7.96l-1.37-1.37c-.4-.4-.92-.59-1.43-.59-.52 0-1.04.2-1.43.59L10.3 9.45l-7.72 7.72c-.78.78-.78 2.05 0 2.83L4 21.41c.39.39.9.59 1.41.59.51 0 1.02-.2 1.41-.59l7.78-7.78 2.81-2.81c.8-.78.8-2.07 0-2.86zM5.41 20L4 18.59l7.72-7.72 1.47 1.35L5.41 20z\"/>\n",
              "  </svg>\n",
              "      </button>\n",
              "      \n",
              "  <style>\n",
              "    .colab-df-container {\n",
              "      display:flex;\n",
              "      flex-wrap:wrap;\n",
              "      gap: 12px;\n",
              "    }\n",
              "\n",
              "    .colab-df-convert {\n",
              "      background-color: #E8F0FE;\n",
              "      border: none;\n",
              "      border-radius: 50%;\n",
              "      cursor: pointer;\n",
              "      display: none;\n",
              "      fill: #1967D2;\n",
              "      height: 32px;\n",
              "      padding: 0 0 0 0;\n",
              "      width: 32px;\n",
              "    }\n",
              "\n",
              "    .colab-df-convert:hover {\n",
              "      background-color: #E2EBFA;\n",
              "      box-shadow: 0px 1px 2px rgba(60, 64, 67, 0.3), 0px 1px 3px 1px rgba(60, 64, 67, 0.15);\n",
              "      fill: #174EA6;\n",
              "    }\n",
              "\n",
              "    [theme=dark] .colab-df-convert {\n",
              "      background-color: #3B4455;\n",
              "      fill: #D2E3FC;\n",
              "    }\n",
              "\n",
              "    [theme=dark] .colab-df-convert:hover {\n",
              "      background-color: #434B5C;\n",
              "      box-shadow: 0px 1px 3px 1px rgba(0, 0, 0, 0.15);\n",
              "      filter: drop-shadow(0px 1px 2px rgba(0, 0, 0, 0.3));\n",
              "      fill: #FFFFFF;\n",
              "    }\n",
              "  </style>\n",
              "\n",
              "      <script>\n",
              "        const buttonEl =\n",
              "          document.querySelector('#df-c34c2ae1-4c4c-4bcc-8241-66d96f4202aa button.colab-df-convert');\n",
              "        buttonEl.style.display =\n",
              "          google.colab.kernel.accessAllowed ? 'block' : 'none';\n",
              "\n",
              "        async function convertToInteractive(key) {\n",
              "          const element = document.querySelector('#df-c34c2ae1-4c4c-4bcc-8241-66d96f4202aa');\n",
              "          const dataTable =\n",
              "            await google.colab.kernel.invokeFunction('convertToInteractive',\n",
              "                                                     [key], {});\n",
              "          if (!dataTable) return;\n",
              "\n",
              "          const docLinkHtml = 'Like what you see? Visit the ' +\n",
              "            '<a target=\"_blank\" href=https://colab.research.google.com/notebooks/data_table.ipynb>data table notebook</a>'\n",
              "            + ' to learn more about interactive tables.';\n",
              "          element.innerHTML = '';\n",
              "          dataTable['output_type'] = 'display_data';\n",
              "          await google.colab.output.renderOutput(dataTable, element);\n",
              "          const docLink = document.createElement('div');\n",
              "          docLink.innerHTML = docLinkHtml;\n",
              "          element.appendChild(docLink);\n",
              "        }\n",
              "      </script>\n",
              "    </div>\n",
              "  </div>\n",
              "  "
            ]
          },
          "metadata": {},
          "execution_count": 19
        }
      ]
    },
    {
      "cell_type": "code",
      "source": [
        "btc.head()"
      ],
      "metadata": {
        "id": "COkMYpkBSDiy",
        "outputId": "583ea79e-0f66-4872-e9df-d1fb35dcf0c9",
        "colab": {
          "base_uri": "https://localhost:8080/",
          "height": 237
        }
      },
      "id": "COkMYpkBSDiy",
      "execution_count": 18,
      "outputs": [
        {
          "output_type": "execute_result",
          "data": {
            "text/plain": [
              "                     OpenPrice  HighPrice  LowPrice  ClosePrice     Volume  \\\n",
              "CloseTime                                                                    \n",
              "2022-11-06 12:00:00      21263      21275     21192       21252  46.996550   \n",
              "2022-11-06 13:00:00      21254      21268     21222       21230  38.710152   \n",
              "2022-11-06 14:00:00      21230      21246     21210       21218  15.239792   \n",
              "2022-11-06 15:00:00      21218      21255     21193       21222  11.529083   \n",
              "2022-11-06 16:00:00      21222      21289     21222       21245  21.401485   \n",
              "\n",
              "                                NA  \n",
              "CloseTime                           \n",
              "2022-11-06 12:00:00  997584.039501  \n",
              "2022-11-06 13:00:00  822276.439684  \n",
              "2022-11-06 14:00:00  323482.032098  \n",
              "2022-11-06 15:00:00  244681.228403  \n",
              "2022-11-06 16:00:00  455134.658076  "
            ],
            "text/html": [
              "\n",
              "  <div id=\"df-30fdaf86-6527-4c25-8365-a2362b42dfaf\">\n",
              "    <div class=\"colab-df-container\">\n",
              "      <div>\n",
              "<style scoped>\n",
              "    .dataframe tbody tr th:only-of-type {\n",
              "        vertical-align: middle;\n",
              "    }\n",
              "\n",
              "    .dataframe tbody tr th {\n",
              "        vertical-align: top;\n",
              "    }\n",
              "\n",
              "    .dataframe thead th {\n",
              "        text-align: right;\n",
              "    }\n",
              "</style>\n",
              "<table border=\"1\" class=\"dataframe\">\n",
              "  <thead>\n",
              "    <tr style=\"text-align: right;\">\n",
              "      <th></th>\n",
              "      <th>OpenPrice</th>\n",
              "      <th>HighPrice</th>\n",
              "      <th>LowPrice</th>\n",
              "      <th>ClosePrice</th>\n",
              "      <th>Volume</th>\n",
              "      <th>NA</th>\n",
              "    </tr>\n",
              "    <tr>\n",
              "      <th>CloseTime</th>\n",
              "      <th></th>\n",
              "      <th></th>\n",
              "      <th></th>\n",
              "      <th></th>\n",
              "      <th></th>\n",
              "      <th></th>\n",
              "    </tr>\n",
              "  </thead>\n",
              "  <tbody>\n",
              "    <tr>\n",
              "      <th>2022-11-06 12:00:00</th>\n",
              "      <td>21263</td>\n",
              "      <td>21275</td>\n",
              "      <td>21192</td>\n",
              "      <td>21252</td>\n",
              "      <td>46.996550</td>\n",
              "      <td>997584.039501</td>\n",
              "    </tr>\n",
              "    <tr>\n",
              "      <th>2022-11-06 13:00:00</th>\n",
              "      <td>21254</td>\n",
              "      <td>21268</td>\n",
              "      <td>21222</td>\n",
              "      <td>21230</td>\n",
              "      <td>38.710152</td>\n",
              "      <td>822276.439684</td>\n",
              "    </tr>\n",
              "    <tr>\n",
              "      <th>2022-11-06 14:00:00</th>\n",
              "      <td>21230</td>\n",
              "      <td>21246</td>\n",
              "      <td>21210</td>\n",
              "      <td>21218</td>\n",
              "      <td>15.239792</td>\n",
              "      <td>323482.032098</td>\n",
              "    </tr>\n",
              "    <tr>\n",
              "      <th>2022-11-06 15:00:00</th>\n",
              "      <td>21218</td>\n",
              "      <td>21255</td>\n",
              "      <td>21193</td>\n",
              "      <td>21222</td>\n",
              "      <td>11.529083</td>\n",
              "      <td>244681.228403</td>\n",
              "    </tr>\n",
              "    <tr>\n",
              "      <th>2022-11-06 16:00:00</th>\n",
              "      <td>21222</td>\n",
              "      <td>21289</td>\n",
              "      <td>21222</td>\n",
              "      <td>21245</td>\n",
              "      <td>21.401485</td>\n",
              "      <td>455134.658076</td>\n",
              "    </tr>\n",
              "  </tbody>\n",
              "</table>\n",
              "</div>\n",
              "      <button class=\"colab-df-convert\" onclick=\"convertToInteractive('df-30fdaf86-6527-4c25-8365-a2362b42dfaf')\"\n",
              "              title=\"Convert this dataframe to an interactive table.\"\n",
              "              style=\"display:none;\">\n",
              "        \n",
              "  <svg xmlns=\"http://www.w3.org/2000/svg\" height=\"24px\"viewBox=\"0 0 24 24\"\n",
              "       width=\"24px\">\n",
              "    <path d=\"M0 0h24v24H0V0z\" fill=\"none\"/>\n",
              "    <path d=\"M18.56 5.44l.94 2.06.94-2.06 2.06-.94-2.06-.94-.94-2.06-.94 2.06-2.06.94zm-11 1L8.5 8.5l.94-2.06 2.06-.94-2.06-.94L8.5 2.5l-.94 2.06-2.06.94zm10 10l.94 2.06.94-2.06 2.06-.94-2.06-.94-.94-2.06-.94 2.06-2.06.94z\"/><path d=\"M17.41 7.96l-1.37-1.37c-.4-.4-.92-.59-1.43-.59-.52 0-1.04.2-1.43.59L10.3 9.45l-7.72 7.72c-.78.78-.78 2.05 0 2.83L4 21.41c.39.39.9.59 1.41.59.51 0 1.02-.2 1.41-.59l7.78-7.78 2.81-2.81c.8-.78.8-2.07 0-2.86zM5.41 20L4 18.59l7.72-7.72 1.47 1.35L5.41 20z\"/>\n",
              "  </svg>\n",
              "      </button>\n",
              "      \n",
              "  <style>\n",
              "    .colab-df-container {\n",
              "      display:flex;\n",
              "      flex-wrap:wrap;\n",
              "      gap: 12px;\n",
              "    }\n",
              "\n",
              "    .colab-df-convert {\n",
              "      background-color: #E8F0FE;\n",
              "      border: none;\n",
              "      border-radius: 50%;\n",
              "      cursor: pointer;\n",
              "      display: none;\n",
              "      fill: #1967D2;\n",
              "      height: 32px;\n",
              "      padding: 0 0 0 0;\n",
              "      width: 32px;\n",
              "    }\n",
              "\n",
              "    .colab-df-convert:hover {\n",
              "      background-color: #E2EBFA;\n",
              "      box-shadow: 0px 1px 2px rgba(60, 64, 67, 0.3), 0px 1px 3px 1px rgba(60, 64, 67, 0.15);\n",
              "      fill: #174EA6;\n",
              "    }\n",
              "\n",
              "    [theme=dark] .colab-df-convert {\n",
              "      background-color: #3B4455;\n",
              "      fill: #D2E3FC;\n",
              "    }\n",
              "\n",
              "    [theme=dark] .colab-df-convert:hover {\n",
              "      background-color: #434B5C;\n",
              "      box-shadow: 0px 1px 3px 1px rgba(0, 0, 0, 0.15);\n",
              "      filter: drop-shadow(0px 1px 2px rgba(0, 0, 0, 0.3));\n",
              "      fill: #FFFFFF;\n",
              "    }\n",
              "  </style>\n",
              "\n",
              "      <script>\n",
              "        const buttonEl =\n",
              "          document.querySelector('#df-30fdaf86-6527-4c25-8365-a2362b42dfaf button.colab-df-convert');\n",
              "        buttonEl.style.display =\n",
              "          google.colab.kernel.accessAllowed ? 'block' : 'none';\n",
              "\n",
              "        async function convertToInteractive(key) {\n",
              "          const element = document.querySelector('#df-30fdaf86-6527-4c25-8365-a2362b42dfaf');\n",
              "          const dataTable =\n",
              "            await google.colab.kernel.invokeFunction('convertToInteractive',\n",
              "                                                     [key], {});\n",
              "          if (!dataTable) return;\n",
              "\n",
              "          const docLinkHtml = 'Like what you see? Visit the ' +\n",
              "            '<a target=\"_blank\" href=https://colab.research.google.com/notebooks/data_table.ipynb>data table notebook</a>'\n",
              "            + ' to learn more about interactive tables.';\n",
              "          element.innerHTML = '';\n",
              "          dataTable['output_type'] = 'display_data';\n",
              "          await google.colab.output.renderOutput(dataTable, element);\n",
              "          const docLink = document.createElement('div');\n",
              "          docLink.innerHTML = docLinkHtml;\n",
              "          element.appendChild(docLink);\n",
              "        }\n",
              "      </script>\n",
              "    </div>\n",
              "  </div>\n",
              "  "
            ]
          },
          "metadata": {},
          "execution_count": 18
        }
      ]
    },
    {
      "cell_type": "code",
      "source": [
        "dai.head()"
      ],
      "metadata": {
        "id": "hswb_nPSTRwd",
        "outputId": "b1d1aa6f-ee31-4349-bc15-eddac8b7f22c",
        "colab": {
          "base_uri": "https://localhost:8080/",
          "height": 237
        }
      },
      "id": "hswb_nPSTRwd",
      "execution_count": 22,
      "outputs": [
        {
          "output_type": "execute_result",
          "data": {
            "text/plain": [
              "                     OpenPrice  HighPrice  LowPrice  ClosePrice      Volume  \\\n",
              "CloseTime                                                                     \n",
              "2022-11-07 15:00:00    1.00000    1.00000   1.00000     1.00000   997.00897   \n",
              "2022-11-08 13:00:00    0.99998    1.00000   0.99998     1.00000  2193.30331   \n",
              "2022-11-08 16:00:00    0.99997    0.99997   0.99997     0.99997   217.53652   \n",
              "2022-11-08 19:00:00    0.99998    0.99998   0.99998     0.99998    58.80000   \n",
              "2022-11-08 22:00:00    0.99932    0.99932   0.99931     0.99931  5292.52329   \n",
              "\n",
              "                              NA  \n",
              "CloseTime                         \n",
              "2022-11-07 15:00:00   997.008970  \n",
              "2022-11-08 13:00:00  2193.273309  \n",
              "2022-11-08 16:00:00   217.529994  \n",
              "2022-11-08 19:00:00    58.798824  \n",
              "2022-11-08 22:00:00  5288.901469  "
            ],
            "text/html": [
              "\n",
              "  <div id=\"df-01425752-b916-4ecd-9abb-bf2a7ded22ad\">\n",
              "    <div class=\"colab-df-container\">\n",
              "      <div>\n",
              "<style scoped>\n",
              "    .dataframe tbody tr th:only-of-type {\n",
              "        vertical-align: middle;\n",
              "    }\n",
              "\n",
              "    .dataframe tbody tr th {\n",
              "        vertical-align: top;\n",
              "    }\n",
              "\n",
              "    .dataframe thead th {\n",
              "        text-align: right;\n",
              "    }\n",
              "</style>\n",
              "<table border=\"1\" class=\"dataframe\">\n",
              "  <thead>\n",
              "    <tr style=\"text-align: right;\">\n",
              "      <th></th>\n",
              "      <th>OpenPrice</th>\n",
              "      <th>HighPrice</th>\n",
              "      <th>LowPrice</th>\n",
              "      <th>ClosePrice</th>\n",
              "      <th>Volume</th>\n",
              "      <th>NA</th>\n",
              "    </tr>\n",
              "    <tr>\n",
              "      <th>CloseTime</th>\n",
              "      <th></th>\n",
              "      <th></th>\n",
              "      <th></th>\n",
              "      <th></th>\n",
              "      <th></th>\n",
              "      <th></th>\n",
              "    </tr>\n",
              "  </thead>\n",
              "  <tbody>\n",
              "    <tr>\n",
              "      <th>2022-11-07 15:00:00</th>\n",
              "      <td>1.00000</td>\n",
              "      <td>1.00000</td>\n",
              "      <td>1.00000</td>\n",
              "      <td>1.00000</td>\n",
              "      <td>997.00897</td>\n",
              "      <td>997.008970</td>\n",
              "    </tr>\n",
              "    <tr>\n",
              "      <th>2022-11-08 13:00:00</th>\n",
              "      <td>0.99998</td>\n",
              "      <td>1.00000</td>\n",
              "      <td>0.99998</td>\n",
              "      <td>1.00000</td>\n",
              "      <td>2193.30331</td>\n",
              "      <td>2193.273309</td>\n",
              "    </tr>\n",
              "    <tr>\n",
              "      <th>2022-11-08 16:00:00</th>\n",
              "      <td>0.99997</td>\n",
              "      <td>0.99997</td>\n",
              "      <td>0.99997</td>\n",
              "      <td>0.99997</td>\n",
              "      <td>217.53652</td>\n",
              "      <td>217.529994</td>\n",
              "    </tr>\n",
              "    <tr>\n",
              "      <th>2022-11-08 19:00:00</th>\n",
              "      <td>0.99998</td>\n",
              "      <td>0.99998</td>\n",
              "      <td>0.99998</td>\n",
              "      <td>0.99998</td>\n",
              "      <td>58.80000</td>\n",
              "      <td>58.798824</td>\n",
              "    </tr>\n",
              "    <tr>\n",
              "      <th>2022-11-08 22:00:00</th>\n",
              "      <td>0.99932</td>\n",
              "      <td>0.99932</td>\n",
              "      <td>0.99931</td>\n",
              "      <td>0.99931</td>\n",
              "      <td>5292.52329</td>\n",
              "      <td>5288.901469</td>\n",
              "    </tr>\n",
              "  </tbody>\n",
              "</table>\n",
              "</div>\n",
              "      <button class=\"colab-df-convert\" onclick=\"convertToInteractive('df-01425752-b916-4ecd-9abb-bf2a7ded22ad')\"\n",
              "              title=\"Convert this dataframe to an interactive table.\"\n",
              "              style=\"display:none;\">\n",
              "        \n",
              "  <svg xmlns=\"http://www.w3.org/2000/svg\" height=\"24px\"viewBox=\"0 0 24 24\"\n",
              "       width=\"24px\">\n",
              "    <path d=\"M0 0h24v24H0V0z\" fill=\"none\"/>\n",
              "    <path d=\"M18.56 5.44l.94 2.06.94-2.06 2.06-.94-2.06-.94-.94-2.06-.94 2.06-2.06.94zm-11 1L8.5 8.5l.94-2.06 2.06-.94-2.06-.94L8.5 2.5l-.94 2.06-2.06.94zm10 10l.94 2.06.94-2.06 2.06-.94-2.06-.94-.94-2.06-.94 2.06-2.06.94z\"/><path d=\"M17.41 7.96l-1.37-1.37c-.4-.4-.92-.59-1.43-.59-.52 0-1.04.2-1.43.59L10.3 9.45l-7.72 7.72c-.78.78-.78 2.05 0 2.83L4 21.41c.39.39.9.59 1.41.59.51 0 1.02-.2 1.41-.59l7.78-7.78 2.81-2.81c.8-.78.8-2.07 0-2.86zM5.41 20L4 18.59l7.72-7.72 1.47 1.35L5.41 20z\"/>\n",
              "  </svg>\n",
              "      </button>\n",
              "      \n",
              "  <style>\n",
              "    .colab-df-container {\n",
              "      display:flex;\n",
              "      flex-wrap:wrap;\n",
              "      gap: 12px;\n",
              "    }\n",
              "\n",
              "    .colab-df-convert {\n",
              "      background-color: #E8F0FE;\n",
              "      border: none;\n",
              "      border-radius: 50%;\n",
              "      cursor: pointer;\n",
              "      display: none;\n",
              "      fill: #1967D2;\n",
              "      height: 32px;\n",
              "      padding: 0 0 0 0;\n",
              "      width: 32px;\n",
              "    }\n",
              "\n",
              "    .colab-df-convert:hover {\n",
              "      background-color: #E2EBFA;\n",
              "      box-shadow: 0px 1px 2px rgba(60, 64, 67, 0.3), 0px 1px 3px 1px rgba(60, 64, 67, 0.15);\n",
              "      fill: #174EA6;\n",
              "    }\n",
              "\n",
              "    [theme=dark] .colab-df-convert {\n",
              "      background-color: #3B4455;\n",
              "      fill: #D2E3FC;\n",
              "    }\n",
              "\n",
              "    [theme=dark] .colab-df-convert:hover {\n",
              "      background-color: #434B5C;\n",
              "      box-shadow: 0px 1px 3px 1px rgba(0, 0, 0, 0.15);\n",
              "      filter: drop-shadow(0px 1px 2px rgba(0, 0, 0, 0.3));\n",
              "      fill: #FFFFFF;\n",
              "    }\n",
              "  </style>\n",
              "\n",
              "      <script>\n",
              "        const buttonEl =\n",
              "          document.querySelector('#df-01425752-b916-4ecd-9abb-bf2a7ded22ad button.colab-df-convert');\n",
              "        buttonEl.style.display =\n",
              "          google.colab.kernel.accessAllowed ? 'block' : 'none';\n",
              "\n",
              "        async function convertToInteractive(key) {\n",
              "          const element = document.querySelector('#df-01425752-b916-4ecd-9abb-bf2a7ded22ad');\n",
              "          const dataTable =\n",
              "            await google.colab.kernel.invokeFunction('convertToInteractive',\n",
              "                                                     [key], {});\n",
              "          if (!dataTable) return;\n",
              "\n",
              "          const docLinkHtml = 'Like what you see? Visit the ' +\n",
              "            '<a target=\"_blank\" href=https://colab.research.google.com/notebooks/data_table.ipynb>data table notebook</a>'\n",
              "            + ' to learn more about interactive tables.';\n",
              "          element.innerHTML = '';\n",
              "          dataTable['output_type'] = 'display_data';\n",
              "          await google.colab.output.renderOutput(dataTable, element);\n",
              "          const docLink = document.createElement('div');\n",
              "          docLink.innerHTML = docLinkHtml;\n",
              "          element.appendChild(docLink);\n",
              "        }\n",
              "      </script>\n",
              "    </div>\n",
              "  </div>\n",
              "  "
            ]
          },
          "metadata": {},
          "execution_count": 22
        }
      ]
    },
    {
      "cell_type": "code",
      "source": [
        "btc['ClosePrice'].plot(figsize = (15,7))\n",
        "btc['OpenPrice'].plot(figsize = (15,7))"
      ],
      "metadata": {
        "id": "kM-7tSUvSbGO",
        "outputId": "84747856-f84c-4bc6-e2e8-51716e1ceb1d",
        "colab": {
          "base_uri": "https://localhost:8080/",
          "height": 495
        }
      },
      "id": "kM-7tSUvSbGO",
      "execution_count": 26,
      "outputs": [
        {
          "output_type": "execute_result",
          "data": {
            "text/plain": [
              "<matplotlib.axes._subplots.AxesSubplot at 0x7f949acfe9a0>"
            ]
          },
          "metadata": {},
          "execution_count": 26
        },
        {
          "output_type": "display_data",
          "data": {
            "text/plain": [
              "<Figure size 1080x504 with 1 Axes>"
            ],
            "image/png": "[encoded data removed]"
          },
          "metadata": {
            "needs_background": "light"
          }
        }
      ]
    },
    {
      "cell_type": "code",
      "source": [
        "eth['ClosePrice'].plot(figsize = (15,7))\n"
      ],
      "metadata": {
        "id": "YpblgyDjS6Zy",
        "outputId": "22aff04d-d6d0-4dad-e4ee-02b4f76fda17",
        "colab": {
          "base_uri": "https://localhost:8080/",
          "height": 495
        }
      },
      "id": "YpblgyDjS6Zy",
      "execution_count": 24,
      "outputs": [
        {
          "output_type": "execute_result",
          "data": {
            "text/plain": [
              "<matplotlib.axes._subplots.AxesSubplot at 0x7f949ae56610>"
            ]
          },
          "metadata": {},
          "execution_count": 24
        },
        {
          "output_type": "display_data",
          "data": {
            "text/plain": [
              "<Figure size 1080x504 with 1 Axes>"
            ],
            "image/png": "[encoded data removed]"
          },
          "metadata": {
            "needs_background": "light"
          }
        }
      ]
    },
    {
      "cell_type": "code",
      "source": [],
      "metadata": {
        "id": "P9q-aKY5SyUC"
      },
      "id": "P9q-aKY5SyUC",
      "execution_count": null,
      "outputs": []
    },
    {
      "cell_type": "markdown",
      "source": [
        "### Bonus"
      ],
      "metadata": {
        "id": "79CUQBdXUPr6"
      },
      "id": "79CUQBdXUPr6"
    },
    {
      "cell_type": "markdown",
      "source": [
        " Bokeh is a plotting library that generates interactive plots, that can be manipulated right within your browser"
      ],
      "metadata": {
        "id": "7GAohZsGUZea"
      },
      "id": "7GAohZsGUZea"
    },
    {
      "cell_type": "code",
      "source": [
        "from bokeh.plotting import figure, output_file, show\n",
        "from bokeh.io import output_notebook\n"
      ],
      "metadata": {
        "id": "ueyFHxvpUSXY"
      },
      "id": "ueyFHxvpUSXY",
      "execution_count": 27,
      "outputs": []
    },
    {
      "cell_type": "code",
      "source": [
        "output_notebook()"
      ],
      "metadata": {
        "id": "6ZBeIbnVUXyn"
      },
      "id": "6ZBeIbnVUXyn",
      "execution_count": 28,
      "outputs": []
    },
    {
      "cell_type": "code",
      "source": [
        "\n",
        "p1 = figure(x_axis_type=\"datetime\", title=\"Crypto Prices\", width=800)\n",
        "p1.grid.grid_line_alpha=0.3\n",
        "p1.xaxis.axis_label = 'Date'\n",
        "p1.yaxis.axis_label = 'Price'\n",
        "\n",
        "p1.line(btc.index, btc['ClosePrice'], color='#f2a900', legend='Bitcoin')\n",
        "#p1.line(eth.index, eth['ClosePrice'], color='#A6CEE3', legend='Ether')\n",
        "\n",
        "p1.legend.location = \"top_left\"\n",
        "\n",
        "show(p1)\n"
      ],
      "metadata": {
        "id": "Z0ibOjbHUqQ2",
        "outputId": "721e40fe-e490-455e-a792-a2162cf430b9",
        "colab": {
          "base_uri": "https://localhost:8080/",
          "height": 635
        }
      },
      "id": "Z0ibOjbHUqQ2",
      "execution_count": 29,
      "outputs": [
        {
          "output_type": "stream",
          "name": "stderr",
          "text": [
            "BokehDeprecationWarning: 'legend' keyword is deprecated, use explicit 'legend_label', 'legend_field', or 'legend_group' keywords instead\n"
          ]
        },
        {
          "output_type": "display_data",
          "data": {
            "application/javascript": [
              "\n",
              "(function(root) {\n",
              "  function now() {\n",
              "    return new Date();\n",
              "  }\n",
              "\n",
              "  var force = true;\n",
              "\n",
              "  if (typeof root._bokeh_onload_callbacks === \"undefined\" || force === true) {\n",
              "    root._bokeh_onload_callbacks = [];\n",
              "    root._bokeh_is_loading = undefined;\n",
              "  }\n",
              "\n",
              "  var JS_MIME_TYPE = 'application/javascript';\n",
              "  var HTML_MIME_TYPE = 'text/html';\n",
              "  var EXEC_MIME_TYPE = 'application/vnd.bokehjs_exec.v0+json';\n",
              "  var CLASS_NAME = 'output_bokeh rendered_html';\n",
              "\n",
              "  /**\n",
              "   * Render data to the DOM node\n",
              "   */\n",
              "  function render(props, node) {\n",
              "    var script = document.createElement(\"script\");\n",
              "    node.appendChild(script);\n",
              "  }\n",
              "\n",
              "  /**\n",
              "   * Handle when an output is cleared or removed\n",
              "   */\n",
              "  function handleClearOutput(event, handle) {\n",
              "    var cell = handle.cell;\n",
              "\n",
              "    var id = cell.output_area._bokeh_element_id;\n",
              "    var server_id = cell.output_area._bokeh_server_id;\n",
              "    // Clean up Bokeh references\n",
              "    if (id != null && id in Bokeh.index) {\n",
              "      Bokeh.index[id].model.document.clear();\n",
              "      delete Bokeh.index[id];\n",
              "    }\n",
              "\n",
              "    if (server_id !== undefined) {\n",
              "      // Clean up Bokeh references\n",
              "      var cmd = \"from bokeh.io.state import curstate; print(curstate().uuid_to_server['\" + server_id + \"'].get_sessions()[0].document.roots[0]._id)\";\n",
              "      cell.notebook.kernel.execute(cmd, {\n",
              "        iopub: {\n",
              "          output: function(msg) {\n",
              "            var id = msg.content.text.trim();\n",
              "            if (id in Bokeh.index) {\n",
              "              Bokeh.index[id].model.document.clear();\n",
              "              delete Bokeh.index[id];\n",
              "            }\n",
              "          }\n",
              "        }\n",
              "      });\n",
              "      // Destroy server and session\n",
              "      var cmd = \"import bokeh.io.notebook as ion; ion.destroy_server('\" + server_id + \"')\";\n",
              "      cell.notebook.kernel.execute(cmd);\n",
              "    }\n",
              "  }\n",
              "\n",
              "  /**\n",
              "   * Handle when a new output is added\n",
              "   */\n",
              "  function handleAddOutput(event, handle) {\n",
              "    var output_area = handle.output_area;\n",
              "    var output = handle.output;\n",
              "\n",
              "    // limit handleAddOutput to display_data with EXEC_MIME_TYPE content only\n",
              "    if ((output.output_type != \"display_data\") || (!Object.prototype.hasOwnProperty.call(output.data, EXEC_MIME_TYPE))) {\n",
              "      return\n",
              "    }\n",
              "\n",
              "    var toinsert = output_area.element.find(\".\" + CLASS_NAME.split(' ')[0]);\n",
              "\n",
              "    if (output.metadata[EXEC_MIME_TYPE][\"id\"] !== undefined) {\n",
              "      toinsert[toinsert.length - 1].firstChild.textContent = output.data[JS_MIME_TYPE];\n",
              "      // store reference to embed id on output_area\n",
              "      output_area._bokeh_element_id = output.metadata[EXEC_MIME_TYPE][\"id\"];\n",
              "    }\n",
              "    if (output.metadata[EXEC_MIME_TYPE][\"server_id\"] !== undefined) {\n",
              "      var bk_div = document.createElement(\"div\");\n",
              "      bk_div.innerHTML = output.data[HTML_MIME_TYPE];\n",
              "      var script_attrs = bk_div.children[0].attributes;\n",
              "      for (var i = 0; i < script_attrs.length; i++) {\n",
              "        toinsert[toinsert.length - 1].firstChild.setAttribute(script_attrs[i].name, script_attrs[i].value);\n",
              "        toinsert[toinsert.length - 1].firstChild.textContent = bk_div.children[0].textContent\n",
              "      }\n",
              "      // store reference to server id on output_area\n",
              "      output_area._bokeh_server_id = output.metadata[EXEC_MIME_TYPE][\"server_id\"];\n",
              "    }\n",
              "  }\n",
              "\n",
              "  function register_renderer(events, OutputArea) {\n",
              "\n",
              "    function append_mime(data, metadata, element) {\n",
              "      // create a DOM node to render to\n",
              "      var toinsert = this.create_output_subarea(\n",
              "        metadata,\n",
              "        CLASS_NAME,\n",
              "        EXEC_MIME_TYPE\n",
              "      );\n",
              "      this.keyboard_manager.register_events(toinsert);\n",
              "      // Render to node\n",
              "      var props = {data: data, metadata: metadata[EXEC_MIME_TYPE]};\n",
              "      render(props, toinsert[toinsert.length - 1]);\n",
              "      element.append(toinsert);\n",
              "      return toinsert\n",
              "    }\n",
              "\n",
              "    /* Handle when an output is cleared or removed */\n",
              "    events.on('clear_output.CodeCell', handleClearOutput);\n",
              "    events.on('delete.Cell', handleClearOutput);\n",
              "\n",
              "    /* Handle when a new output is added */\n",
              "    events.on('output_added.OutputArea', handleAddOutput);\n",
              "\n",
              "    /**\n",
              "     * Register the mime type and append_mime function with output_area\n",
              "     */\n",
              "    OutputArea.prototype.register_mime_type(EXEC_MIME_TYPE, append_mime, {\n",
              "      /* Is output safe? */\n",
              "      safe: true,\n",
              "      /* Index of renderer in `output_area.display_order` */\n",
              "      index: 0\n",
              "    });\n",
              "  }\n",
              "\n",
              "  // register the mime type if in Jupyter Notebook environment and previously unregistered\n",
              "  if (root.Jupyter !== undefined) {\n",
              "    var events = require('base/js/events');\n",
              "    var OutputArea = require('notebook/js/outputarea').OutputArea;\n",
              "\n",
              "    if (OutputArea.prototype.mime_types().indexOf(EXEC_MIME_TYPE) == -1) {\n",
              "      register_renderer(events, OutputArea);\n",
              "    }\n",
              "  }\n",
              "\n",
              "  \n",
              "  if (typeof (root._bokeh_timeout) === \"undefined\" || force === true) {\n",
              "    root._bokeh_timeout = Date.now() + 5000;\n",
              "    root._bokeh_failed_load = false;\n",
              "  }\n",
              "\n",
              "  var NB_LOAD_WARNING = {'data': {'text/html':\n",
              "     \"<div style='background-color: #fdd'>\\n\"+\n",
              "     \"<p>\\n\"+\n",
              "     \"BokehJS does not appear to have successfully loaded. If loading BokehJS from CDN, this \\n\"+\n",
              "     \"may be due to a slow or bad network connection. Possible fixes:\\n\"+\n",
              "     \"</p>\\n\"+\n",
              "     \"<ul>\\n\"+\n",
              "     \"<li>re-rerun `output_notebook()` to attempt to load from CDN again, or</li>\\n\"+\n",
              "     \"<li>use INLINE resources instead, as so:</li>\\n\"+\n",
              "     \"</ul>\\n\"+\n",
              "     \"<code>\\n\"+\n",
              "     \"from bokeh.resources import INLINE\\n\"+\n",
              "     \"output_notebook(resources=INLINE)\\n\"+\n",
              "     \"</code>\\n\"+\n",
              "     \"</div>\"}};\n",
              "\n",
              "  function display_loaded() {\n",
              "    var el = document.getElementById(null);\n",
              "    if (el != null) {\n",
              "      el.textContent = \"BokehJS is loading...\";\n",
              "    }\n",
              "    if (root.Bokeh !== undefined) {\n",
              "      if (el != null) {\n",
              "        el.textContent = \"BokehJS \" + root.Bokeh.version + \" successfully loaded.\";\n",
              "      }\n",
              "    } else if (Date.now() < root._bokeh_timeout) {\n",
              "      setTimeout(display_loaded, 100)\n",
              "    }\n",
              "  }\n",
              "\n",
              "\n",
              "  function run_callbacks() {\n",
              "    try {\n",
              "      root._bokeh_onload_callbacks.forEach(function(callback) {\n",
              "        if (callback != null)\n",
              "          callback();\n",
              "      });\n",
              "    } finally {\n",
              "      delete root._bokeh_onload_callbacks\n",
              "    }\n",
              "    console.debug(\"Bokeh: all callbacks have finished\");\n",
              "  }\n",
              "\n",
              "  function load_libs(css_urls, js_urls, callback) {\n",
              "    if (css_urls == null) css_urls = [];\n",
              "    if (js_urls == null) js_urls = [];\n",
              "\n",
              "    root._bokeh_onload_callbacks.push(callback);\n",
              "    if (root._bokeh_is_loading > 0) {\n",
              "      console.debug(\"Bokeh: BokehJS is being loaded, scheduling callback at\", now());\n",
              "      return null;\n",
              "    }\n",
              "    if (js_urls == null || js_urls.length === 0) {\n",
              "      run_callbacks();\n",
              "      return null;\n",
              "    }\n",
              "    console.debug(\"Bokeh: BokehJS not loaded, scheduling load and callback at\", now());\n",
              "    root._bokeh_is_loading = css_urls.length + js_urls.length;\n",
              "\n",
              "    function on_load() {\n",
              "      root._bokeh_is_loading--;\n",
              "      if (root._bokeh_is_loading === 0) {\n",
              "        console.debug(\"Bokeh: all BokehJS libraries/stylesheets loaded\");\n",
              "        run_callbacks()\n",
              "      }\n",
              "    }\n",
              "\n",
              "    function on_error(url) {\n",
              "      console.error(\"failed to load \" + url);\n",
              "    }\n",
              "\n",
              "    for (let i = 0; i < css_urls.length; i++) {\n",
              "      const url = css_urls[i];\n",
              "      const element = document.createElement(\"link\");\n",
              "      element.onload = on_load;\n",
              "      element.onerror = on_error.bind(null, url);\n",
              "      element.rel = \"stylesheet\";\n",
              "      element.type = \"text/css\";\n",
              "      element.href = url;\n",
              "      console.debug(\"Bokeh: injecting link tag for BokehJS stylesheet: \", url);\n",
              "      document.body.appendChild(element);\n",
              "    }\n",
              "\n",
              "    const hashes = {\"https://cdn.bokeh.org/bokeh/release/bokeh-2.3.3.min.js\": \"dM3QQsP+wXdHg42wTqW85BjZQdLNNIXqlPw/BgKoExPmTG7ZLML4EGqLMfqHT6ON\", \"https://cdn.bokeh.org/bokeh/release/bokeh-tables-2.3.3.min.js\": \"8x57I4YuIfu8XyZfFo0XVr2WAT8EK4rh/uDe3wF7YuW2FNUSNEpJbsPaB1nJ2fz2\", \"https://cdn.bokeh.org/bokeh/release/bokeh-widgets-2.3.3.min.js\": \"3QTqdz9LyAm2i0sG5XTePsHec3UHWwVsrOL68SYRoAXsafvfAyqtQ+h440+qIBhS\"};\n",
              "\n",
              "    for (let i = 0; i < js_urls.length; i++) {\n",
              "      const url = js_urls[i];\n",
              "      const element = document.createElement('script');\n",
              "      element.onload = on_load;\n",
              "      element.onerror = on_error.bind(null, url);\n",
              "      element.async = false;\n",
              "      element.src = url;\n",
              "      if (url in hashes) {\n",
              "        element.crossOrigin = \"anonymous\";\n",
              "        element.integrity = \"sha384-\" + hashes[url];\n",
              "      }\n",
              "      console.debug(\"Bokeh: injecting script tag for BokehJS library: \", url);\n",
              "      document.head.appendChild(element);\n",
              "    }\n",
              "  };\n",
              "\n",
              "  function inject_raw_css(css) {\n",
              "    const element = document.createElement(\"style\");\n",
              "    element.appendChild(document.createTextNode(css));\n",
              "    document.body.appendChild(element);\n",
              "  }\n",
              "\n",
              "  \n",
              "  var js_urls = [\"https://cdn.bokeh.org/bokeh/release/bokeh-2.3.3.min.js\", \"https://cdn.bokeh.org/bokeh/release/bokeh-widgets-2.3.3.min.js\", \"https://cdn.bokeh.org/bokeh/release/bokeh-tables-2.3.3.min.js\"];\n",
              "  var css_urls = [];\n",
              "  \n",
              "\n",
              "  var inline_js = [\n",
              "    function(Bokeh) {\n",
              "      Bokeh.set_log_level(\"info\");\n",
              "    },\n",
              "    function(Bokeh) {\n",
              "    \n",
              "    \n",
              "    }\n",
              "  ];\n",
              "\n",
              "  function run_inline_js() {\n",
              "    \n",
              "    if (root.Bokeh !== undefined || force === true) {\n",
              "      \n",
              "    for (var i = 0; i < inline_js.length; i++) {\n",
              "      inline_js[i].call(root, root.Bokeh);\n",
              "    }\n",
              "    } else if (Date.now() < root._bokeh_timeout) {\n",
              "      setTimeout(run_inline_js, 100);\n",
              "    } else if (!root._bokeh_failed_load) {\n",
              "      console.log(\"Bokeh: BokehJS failed to load within specified timeout.\");\n",
              "      root._bokeh_failed_load = true;\n",
              "    } else if (force !== true) {\n",
              "      var cell = $(document.getElementById(null)).parents('.cell').data().cell;\n",
              "      cell.output_area.append_execute_result(NB_LOAD_WARNING)\n",
              "    }\n",
              "\n",
              "  }\n",
              "\n",
              "  if (root._bokeh_is_loading === 0) {\n",
              "    console.debug(\"Bokeh: BokehJS loaded, going straight to plotting\");\n",
              "    run_inline_js();\n",
              "  } else {\n",
              "    load_libs(css_urls, js_urls, function() {\n",
              "      console.debug(\"Bokeh: BokehJS plotting callback run at\", now());\n",
              "      run_inline_js();\n",
              "    });\n",
              "  }\n",
              "}(window));"
            ],
            "application/vnd.bokehjs_load.v0+json": "\n(function(root) {\n  function now() {\n    return new Date();\n  }\n\n  var force = true;\n\n  if (typeof root._bokeh_onload_callbacks === \"undefined\" || force === true) {\n    root._bokeh_onload_callbacks = [];\n    root._bokeh_is_loading = undefined;\n  }\n\n  \n\n  \n  if (typeof (root._bokeh_timeout) === \"undefined\" || force === true) {\n    root._bokeh_timeout = Date.now() + 5000;\n    root._bokeh_failed_load = false;\n  }\n\n  var NB_LOAD_WARNING = {'data': {'text/html':\n     \"<div style='background-color: #fdd'>\\n\"+\n     \"<p>\\n\"+\n     \"BokehJS does not appear to have successfully loaded. If loading BokehJS from CDN, this \\n\"+\n     \"may be due to a slow or bad network connection. Possible fixes:\\n\"+\n     \"</p>\\n\"+\n     \"<ul>\\n\"+\n     \"<li>re-rerun `output_notebook()` to attempt to load from CDN again, or</li>\\n\"+\n     \"<li>use INLINE resources instead, as so:</li>\\n\"+\n     \"</ul>\\n\"+\n     \"<code>\\n\"+\n     \"from bokeh.resources import INLINE\\n\"+\n     \"output_notebook(resources=INLINE)\\n\"+\n     \"</code>\\n\"+\n     \"</div>\"}};\n\n  function display_loaded() {\n    var el = document.getElementById(null);\n    if (el != null) {\n      el.textContent = \"BokehJS is loading...\";\n    }\n    if (root.Bokeh !== undefined) {\n      if (el != null) {\n        el.textContent = \"BokehJS \" + root.Bokeh.version + \" successfully loaded.\";\n      }\n    } else if (Date.now() < root._bokeh_timeout) {\n      setTimeout(display_loaded, 100)\n    }\n  }\n\n\n  function run_callbacks() {\n    try {\n      root._bokeh_onload_callbacks.forEach(function(callback) {\n        if (callback != null)\n          callback();\n      });\n    } finally {\n      delete root._bokeh_onload_callbacks\n    }\n    console.debug(\"Bokeh: all callbacks have finished\");\n  }\n\n  function load_libs(css_urls, js_urls, callback) {\n    if (css_urls == null) css_urls = [];\n    if (js_urls == null) js_urls = [];\n\n    root._bokeh_onload_callbacks.push(callback);\n    if (root._bokeh_is_loading > 0) {\n      console.debug(\"Bokeh: BokehJS is being loaded, scheduling callback at\", now());\n      return null;\n    }\n    if (js_urls == null || js_urls.length === 0) {\n      run_callbacks();\n      return null;\n    }\n    console.debug(\"Bokeh: BokehJS not loaded, scheduling load and callback at\", now());\n    root._bokeh_is_loading = css_urls.length + js_urls.length;\n\n    function on_load() {\n      root._bokeh_is_loading--;\n      if (root._bokeh_is_loading === 0) {\n        console.debug(\"Bokeh: all BokehJS libraries/stylesheets loaded\");\n        run_callbacks()\n      }\n    }\n\n    function on_error(url) {\n      console.error(\"failed to load \" + url);\n    }\n\n    for (let i = 0; i < css_urls.length; i++) {\n      const url = css_urls[i];\n      const element = document.createElement(\"link\");\n      element.onload = on_load;\n      element.onerror = on_error.bind(null, url);\n      element.rel = \"stylesheet\";\n      element.type = \"text/css\";\n      element.href = url;\n      console.debug(\"Bokeh: injecting link tag for BokehJS stylesheet: \", url);\n      document.body.appendChild(element);\n    }\n\n    const hashes = {\"https://cdn.bokeh.org/bokeh/release/bokeh-2.3.3.min.js\": \"dM3QQsP+wXdHg42wTqW85BjZQdLNNIXqlPw/BgKoExPmTG7ZLML4EGqLMfqHT6ON\", \"https://cdn.bokeh.org/bokeh/release/bokeh-tables-2.3.3.min.js\": \"8x57I4YuIfu8XyZfFo0XVr2WAT8EK4rh/uDe3wF7YuW2FNUSNEpJbsPaB1nJ2fz2\", \"https://cdn.bokeh.org/bokeh/release/bokeh-widgets-2.3.3.min.js\": \"3QTqdz9LyAm2i0sG5XTePsHec3UHWwVsrOL68SYRoAXsafvfAyqtQ+h440+qIBhS\"};\n\n    for (let i = 0; i < js_urls.length; i++) {\n      const url = js_urls[i];\n      const element = document.createElement('script');\n      element.onload = on_load;\n      element.onerror = on_error.bind(null, url);\n      element.async = false;\n      element.src = url;\n      if (url in hashes) {\n        element.crossOrigin = \"anonymous\";\n        element.integrity = \"sha384-\" + hashes[url];\n      }\n      console.debug(\"Bokeh: injecting script tag for BokehJS library: \", url);\n      document.head.appendChild(element);\n    }\n  };\n\n  function inject_raw_css(css) {\n    const element = document.createElement(\"style\");\n    element.appendChild(document.createTextNode(css));\n    document.body.appendChild(element);\n  }\n\n  \n  var js_urls = [\"https://cdn.bokeh.org/bokeh/release/bokeh-2.3.3.min.js\", \"https://cdn.bokeh.org/bokeh/release/bokeh-widgets-2.3.3.min.js\", \"https://cdn.bokeh.org/bokeh/release/bokeh-tables-2.3.3.min.js\"];\n  var css_urls = [];\n  \n\n  var inline_js = [\n    function(Bokeh) {\n      Bokeh.set_log_level(\"info\");\n    },\n    function(Bokeh) {\n    \n    \n    }\n  ];\n\n  function run_inline_js() {\n    \n    if (root.Bokeh !== undefined || force === true) {\n      \n    for (var i = 0; i < inline_js.length; i++) {\n      inline_js[i].call(root, root.Bokeh);\n    }\n    } else if (Date.now() < root._bokeh_timeout) {\n      setTimeout(run_inline_js, 100);\n    } else if (!root._bokeh_failed_load) {\n      console.log(\"Bokeh: BokehJS failed to load within specified timeout.\");\n      root._bokeh_failed_load = true;\n    } else if (force !== true) {\n      var cell = $(document.getElementById(null)).parents('.cell').data().cell;\n      cell.output_area.append_execute_result(NB_LOAD_WARNING)\n    }\n\n  }\n\n  if (root._bokeh_is_loading === 0) {\n    console.debug(\"Bokeh: BokehJS loaded, going straight to plotting\");\n    run_inline_js();\n  } else {\n    load_libs(css_urls, js_urls, function() {\n      console.debug(\"Bokeh: BokehJS plotting callback run at\", now());\n      run_inline_js();\n    });\n  }\n}(window));"
          },
          "metadata": {}
        },
        {
          "output_type": "display_data",
          "data": {
            "text/html": [
              "\n",
              "\n",
              "\n",
              "\n",
              "\n",
              "\n",
              "  <div class=\"bk-root\" id=\"2960f81b-e617-436d-8377-1c3bded20c38\" data-root-id=\"1002\"></div>\n"
            ]
          },
          "metadata": {}
        },
        {
          "output_type": "display_data",
          "data": {
            "application/javascript": [
              "(function(root) {\n",
              "  function embed_document(root) {\n",
              "    \n",
              "  var docs_json = {\"fdd61f2f-ff63-4e22-87b3-231e6b86c77c\":{\"defs\":[],\"roots\":{\"references\":[{\"attributes\":{\"below\":[{\"id\":\"1013\"}],\"center\":[{\"id\":\"1016\"},{\"id\":\"1020\"},{\"id\":\"1062\"}],\"left\":[{\"id\":\"1017\"}],\"renderers\":[{\"id\":\"1038\"}],\"title\":{\"id\":\"1003\"},\"toolbar\":{\"id\":\"1028\"},\"width\":800,\"x_range\":{\"id\":\"1005\"},\"x_scale\":{\"id\":\"1009\"},\"y_range\":{\"id\":\"1007\"},\"y_scale\":{\"id\":\"1011\"}},\"id\":\"1002\",\"subtype\":\"Figure\",\"type\":\"Plot\"},{\"attributes\":{\"base\":60,\"mantissas\":[1,2,5,10,15,20,30],\"max_interval\":1800000.0,\"min_interval\":1000.0,\"num_minor_ticks\":0},\"id\":\"1050\",\"type\":\"AdaptiveTicker\"},{\"attributes\":{},\"id\":\"1043\",\"type\":\"AllLabels\"},{\"attributes\":{\"base\":24,\"mantissas\":[1,2,4,6,8,12],\"max_interval\":43200000.0,\"min_interval\":3600000.0,\"num_minor_ticks\":0},\"id\":\"1051\",\"type\":\"AdaptiveTicker\"},{\"attributes\":{},\"id\":\"1044\",\"type\":\"BasicTickFormatter\"},{\"attributes\":{\"months\":[0,1,2,3,4,5,6,7,8,9,10,11]},\"id\":\"1056\",\"type\":\"MonthsTicker\"},{\"attributes\":{\"months\":[0,2,4,6,8,10]},\"id\":\"1057\",\"type\":\"MonthsTicker\"},{\"attributes\":{\"days\":[1,4,7,10,13,16,19,22,25,28]},\"id\":\"1053\",\"type\":\"DaysTicker\"},{\"attributes\":{},\"id\":\"1046\",\"type\":\"AllLabels\"},{\"attributes\":{\"days\":[1,15]},\"id\":\"1055\",\"type\":\"DaysTicker\"},{\"attributes\":{\"months\":[0,6]},\"id\":\"1059\",\"type\":\"MonthsTicker\"},{\"attributes\":{\"axis_label\":\"Price\",\"formatter\":{\"id\":\"1044\"},\"major_label_policy\":{\"id\":\"1046\"},\"ticker\":{\"id\":\"1018\"}},\"id\":\"1017\",\"type\":\"LinearAxis\"},{\"attributes\":{\"days\":[1,8,15,22]},\"id\":\"1054\",\"type\":\"DaysTicker\"},{\"attributes\":{},\"id\":\"1060\",\"type\":\"YearsTicker\"},{\"attributes\":{\"axis_label\":\"Date\",\"formatter\":{\"id\":\"1041\"},\"major_label_policy\":{\"id\":\"1043\"},\"ticker\":{\"id\":\"1014\"}},\"id\":\"1013\",\"type\":\"DatetimeAxis\"},{\"attributes\":{\"months\":[0,4,8]},\"id\":\"1058\",\"type\":\"MonthsTicker\"},{\"attributes\":{\"days\":[1,2,3,4,5,6,7,8,9,10,11,12,13,14,15,16,17,18,19,20,21,22,23,24,25,26,27,28,29,30,31]},\"id\":\"1052\",\"type\":\"DaysTicker\"},{\"attributes\":{\"bottom_units\":\"screen\",\"fill_alpha\":0.5,\"fill_color\":\"lightgrey\",\"left_units\":\"screen\",\"level\":\"overlay\",\"line_alpha\":1.0,\"line_color\":\"black\",\"line_dash\":[4,4],\"line_width\":2,\"right_units\":\"screen\",\"syncable\":false,\"top_units\":\"screen\"},\"id\":\"1027\",\"type\":\"BoxAnnotation\"},{\"attributes\":{},\"id\":\"1011\",\"type\":\"LinearScale\"},{\"attributes\":{},\"id\":\"1047\",\"type\":\"Selection\"},{\"attributes\":{\"line_alpha\":0.1,\"line_color\":\"#f2a900\",\"x\":{\"field\":\"x\"},\"y\":{\"field\":\"y\"}},\"id\":\"1037\",\"type\":\"Line\"},{\"attributes\":{\"data_source\":{\"id\":\"1035\"},\"glyph\":{\"id\":\"1036\"},\"hover_glyph\":null,\"muted_glyph\":null,\"nonselection_glyph\":{\"id\":\"1037\"},\"view\":{\"id\":\"1039\"}},\"id\":\"1038\",\"type\":\"GlyphRenderer\"},{\"attributes\":{},\"id\":\"1048\",\"type\":\"UnionRenderers\"},{\"attributes\":{\"data\":{\"x\":{\"__ndarray__\":\"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\",\"dtype\":\"float64\",\"order\":\"little\",\"shape\":[721]},\"y\":[21252,21230,21218,21222,21245,21260,21250,21222,21194,21205,21128,21140,20907,20901,20989,20989,20912,20891,20861,20860,20636,20713,20681,20762,20729,20762,20724,20656,20771,20666,20702,20707,20848,20812,20686,20465,20590,20517,20628,20447,20130,19656,19704,19792,19803,19740,19781,19693,19710,19733,19551,19417,19520,20371,19340,18612,18280,18162,18701,18482,18550,18335,18324,18120,18312,18245,18382,18312,18253,18150,17751,17670,17800,17595,17563,17640,17107,17069,16929,16585,16782,16241,15810,15924,15877,16282,16144,16189,16384,16460,16757,16667,16713,16794,16638,16303,16219,16457,17556,17561,17554,17769,17220,17354,17438,18080,17812,17778,17551,17528,17202,17161,17013,16995,17311,17214,17352,17367,17355,17275,17311,17367,17289,16882,16833,16791,16873,16806,16805,16568,16756,16869,17007,16844,16856,16859,16880,16726,16665,16723,16776,16781,16806,16811,16829,16829,16804,16871,16901,16868,16869,16842,16873,16811,16800,16803,16788,16818,16857,16869,16897,16844,16842,16674,16742,16637,16506,16567,16626,16577,16646,16638,16562,16561,16525,16499,16533,16469,16377,16407,16310,16243,16067,16148,16123,15957,15840,16610,16803,16754,16738,16762,16732,16796,16720,16580,16561,16459,16555,16590,16232,16257,16383,16382,16589,16538,16696,16737,16805,16753,16635,16720,16828,16904,16776,16857,16758,16818,16991,16915,16981,16985,16993,16721,16835,16825,16887,16858,16874,16759,16834,16922,16955,16900,16910,16862,16821,16764,16721,16709,16690,16647,16485,16465,16403,16483,16558,16534,16539,16567,16533,16665,16654,16691,16684,16568,16520,16496,16566,16554,16594,16560,16508,16516,16577,16570,16481,16495,16537,16647,16684,16694,16606,16680,16682,16701,16686,16941,16874,16911,16854,16798,16798,16788,16739,16726,16736,16756,16740,16767,16737,16689,16680,16636,16575,16570,16637,16623,16639,16647,16683,16649,16646,16608,16612,16616,16583,16591,16587,16627,16617,16624,16653,16636,16632,16632,16645,16641,16597,16612,16611,16620,16660,16724,16690,16705,16669,16670,16661,16666,16668,16669,16703,16584,16612,16609,16503,16501,16565,16533,16560,16563,16532,16562,16567,16511,16247,16274,16256,16240,16189,15985,16041,16119,16196,16067,16001,16008,16089,16108,16058,16086,16155,16146,16100,16017,15996,15954,15709,15772,15632,15720,15766,15844,15789,15864,15821,15798,15781,15657,15735,15705,15675,15774,15724,15814,16148,16092,16217,16162,16078,16124,16150,16120,16129,16163,16197,16175,16200,16485,16558,16482,16445,16479,16555,16525,16540,16573,16575,16498,16398,16456,16416,16334,16373,16525,16454,16595,16472,16492,16603,16538,16734,16679,16703,16681,16644,16694,16607,16572,16585,16537,16558,16524,16573,16523,16545,16610,16577,16576,16563,16553,16543,16596,16591,16517,16512,16514,16477,16366,16354,16415,16450,16440,16435,16463,16519,16501,16470,16522,16498,16473,16501,16483,16512,16519,16493,16513,16508,16568,16620,16617,16613,16620,16620,16544,16575,16567,16582,16591,16570,16576,16594,16558,16505,16499,16511,16467,16481,16499,16509,16419,16454,16462,16480,16521,16518,16561,16533,16556,16561,16524,16518,16536,16540,16551,16532,16531,16563,16532,16525,16556,16546,16558,16575,16574,16424,16446,16135,16111,16173,16197,16153,16199,16214,16224,16215,16189,16207,16172,16175,16210,16135,16303,16201,16156,16211,16252,16203,16217,16210,16172,16243,16256,16277,16428,16474,16460,16456,16491,16514,16504,16488,16481,16402,16358,16390,16402,16372,16412,16421,16487,16459,16487,16434,16839,16878,16962,16841,16871,16862,16858,16886,16887,16873,16879,16877,16782,16810,16848,16863,16861,16790,16926,17056,17095,17106,17157,17170,17161,17113,17124,17146,17141,17115,17119,17070,17113,17111,17095,17104,17139,17091,17110,16974,16983,16968,16934,16950,16911,16930,16968,16977,17040,16925,16918,16905,16934,16935,16913,16961,16967,16968,16965,17000,17036,16897,16911,16943,16937,16939,16957,16991,17032,17014,17047,17095,17050,17056,17032,17022,17022,17019,16980,16969,16946,16982,16967,16953,16965,16954,16948,16965,16955,16978,16972,16957,16935,16948,16903,16886,16951,16970,16977,16962,17010,17020,17003,16998,17019,17006,17007,16948,16963,16946,17010,17033,17016,17046,17068,17091,17094,17117,17105,17114,17211,17273,17244,17202,17364,17342,17312,17318,17359,17309,17302,17315,17257,17236,17210,17085,17043,17057,17048,16926,16941,16975,16943,16968,17040,17034,17034,17004,17004,16980,17004,17005,17036,16980,16971,16980]},\"selected\":{\"id\":\"1047\"},\"selection_policy\":{\"id\":\"1048\"}},\"id\":\"1035\",\"type\":\"ColumnDataSource\"},{\"attributes\":{},\"id\":\"1018\",\"type\":\"BasicTicker\"},{\"attributes\":{\"axis\":{\"id\":\"1013\"},\"grid_line_alpha\":0.3,\"ticker\":null},\"id\":\"1016\",\"type\":\"Grid\"},{\"attributes\":{\"items\":[{\"id\":\"1063\"}],\"location\":\"top_left\"},\"id\":\"1062\",\"type\":\"Legend\"},{\"attributes\":{\"label\":{\"value\":\"Bitcoin\"},\"renderers\":[{\"id\":\"1038\"}]},\"id\":\"1063\",\"type\":\"LegendItem\"},{\"attributes\":{\"source\":{\"id\":\"1035\"}},\"id\":\"1039\",\"type\":\"CDSView\"},{\"attributes\":{\"num_minor_ticks\":5,\"tickers\":[{\"id\":\"1049\"},{\"id\":\"1050\"},{\"id\":\"1051\"},{\"id\":\"1052\"},{\"id\":\"1053\"},{\"id\":\"1054\"},{\"id\":\"1055\"},{\"id\":\"1056\"},{\"id\":\"1057\"},{\"id\":\"1058\"},{\"id\":\"1059\"},{\"id\":\"1060\"}]},\"id\":\"1014\",\"type\":\"DatetimeTicker\"},{\"attributes\":{\"text\":\"Crypto Prices\"},\"id\":\"1003\",\"type\":\"Title\"},{\"attributes\":{},\"id\":\"1026\",\"type\":\"HelpTool\"},{\"attributes\":{},\"id\":\"1022\",\"type\":\"WheelZoomTool\"},{\"attributes\":{},\"id\":\"1005\",\"type\":\"DataRange1d\"},{\"attributes\":{},\"id\":\"1009\",\"type\":\"LinearScale\"},{\"attributes\":{\"axis\":{\"id\":\"1017\"},\"dimension\":1,\"grid_line_alpha\":0.3,\"ticker\":null},\"id\":\"1020\",\"type\":\"Grid\"},{\"attributes\":{\"line_color\":\"#f2a900\",\"x\":{\"field\":\"x\"},\"y\":{\"field\":\"y\"}},\"id\":\"1036\",\"type\":\"Line\"},{\"attributes\":{},\"id\":\"1021\",\"type\":\"PanTool\"},{\"attributes\":{\"active_multi\":null,\"tools\":[{\"id\":\"1021\"},{\"id\":\"1022\"},{\"id\":\"1023\"},{\"id\":\"1024\"},{\"id\":\"1025\"},{\"id\":\"1026\"}]},\"id\":\"1028\",\"type\":\"Toolbar\"},{\"attributes\":{\"overlay\":{\"id\":\"1027\"}},\"id\":\"1023\",\"type\":\"BoxZoomTool\"},{\"attributes\":{},\"id\":\"1024\",\"type\":\"SaveTool\"},{\"attributes\":{},\"id\":\"1007\",\"type\":\"DataRange1d\"},{\"attributes\":{\"mantissas\":[1,2,5],\"max_interval\":500.0,\"num_minor_ticks\":0},\"id\":\"1049\",\"type\":\"AdaptiveTicker\"},{\"attributes\":{},\"id\":\"1025\",\"type\":\"ResetTool\"},{\"attributes\":{},\"id\":\"1041\",\"type\":\"DatetimeTickFormatter\"}],\"root_ids\":[\"1002\"]},\"title\":\"Bokeh Application\",\"version\":\"2.3.3\"}};\n",
              "  var render_items = [{\"docid\":\"fdd61f2f-ff63-4e22-87b3-231e6b86c77c\",\"root_ids\":[\"1002\"],\"roots\":{\"1002\":\"2960f81b-e617-436d-8377-1c3bded20c38\"}}];\n",
              "  root.Bokeh.embed.embed_items_notebook(docs_json, render_items);\n",
              "\n",
              "  }\n",
              "  if (root.Bokeh !== undefined) {\n",
              "    embed_document(root);\n",
              "  } else {\n",
              "    var attempts = 0;\n",
              "    var timer = setInterval(function(root) {\n",
              "      if (root.Bokeh !== undefined) {\n",
              "        clearInterval(timer);\n",
              "        embed_document(root);\n",
              "      } else {\n",
              "        attempts++;\n",
              "        if (attempts > 100) {\n",
              "          clearInterval(timer);\n",
              "          console.log(\"Bokeh: ERROR: Unable to run BokehJS code because BokehJS library is missing\");\n",
              "        }\n",
              "      }\n",
              "    }, 10, root)\n",
              "  }\n",
              "})(window);"
            ],
            "application/vnd.bokehjs_exec.v0+json": ""
          },
          "metadata": {
            "application/vnd.bokehjs_exec.v0+json": {
              "id": "1002"
            }
          }
        }
      ]
    },
    {
      "cell_type": "code",
      "source": [],
      "metadata": {
        "id": "0EoHpObrUsAo"
      },
      "id": "0EoHpObrUsAo",
      "execution_count": null,
      "outputs": []
    },
    {
      "cell_type": "markdown",
      "source": [
        "### Export"
      ],
      "metadata": {
        "id": "burMysqAV8D6"
      },
      "id": "burMysqAV8D6"
    },
    {
      "cell_type": "code",
      "source": [
        "\n",
        "\n",
        "writer = pd.ExcelWriter('cryptos.xlsx')\n",
        "\n",
        "\n",
        "btc.to_excel(writer, sheet_name='Bitcoin')\n",
        "\n",
        "eth.to_excel(writer, sheet_name='Ether')\n",
        "\n",
        "\n",
        "     \n"
      ],
      "metadata": {
        "id": "zTOD81gGV-KU"
      },
      "id": "zTOD81gGV-KU",
      "execution_count": 31,
      "outputs": []
    },
    {
      "cell_type": "code",
      "source": [
        "writer.save()"
      ],
      "metadata": {
        "id": "KDwsmHF2WgzJ"
      },
      "id": "KDwsmHF2WgzJ",
      "execution_count": 32,
      "outputs": []
    },
    {
      "cell_type": "code",
      "source": [],
      "metadata": {
        "id": "tdMQdJ1jWlzw"
      },
      "id": "tdMQdJ1jWlzw",
      "execution_count": null,
      "outputs": []
    }
  ],
  "metadata": {
    "kernelspec": {
      "display_name": "Python 3 (ipykernel)",
      "language": "python",
      "name": "python3"
    },
    "language_info": {
      "codemirror_mode": {
        "name": "ipython",
        "version": 3
      },
      "file_extension": ".py",
      "mimetype": "text/x-python",
      "name": "python",
      "nbconvert_exporter": "python",
      "pygments_lexer": "ipython3",
      "version": "3.9.12"
    },
    "colab": {
      "provenance": []
    }
  },
  "nbformat": 4,
  "nbformat_minor": 5
}