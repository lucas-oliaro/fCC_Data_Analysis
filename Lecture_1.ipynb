{
 "cells": [
  {
   "cell_type": "code",
   "execution_count": 1,
   "id": "09ca994c",
   "metadata": {},
   "outputs": [
    {
     "data": {
      "text/plain": [
       "7"
      ]
     },
     "execution_count": 1,
     "metadata": {},
     "output_type": "execute_result"
    }
   ],
   "source": [
    "3+4\n"
   ]
  },
  {
   "cell_type": "markdown",
   "id": "70e9766e",
   "metadata": {},
   "source": [
    "# a\n",
    "## a\n",
    "### a\n",
    " **midfgvf**\n",
    " >_hjgjhgolhkjkjhj\n",
    " \n",
    "![green-divider](https://cdn10.bigcommerce.com/s-raqyrv37/products/116/images/617/red_colored_sand__11015.1455040403.750.475.jpg?c=2)\n"
   ]
  },
  {
   "cell_type": "code",
   "execution_count": null,
   "id": "3d15d406",
   "metadata": {},
   "outputs": [],
   "source": []
  },
  {
   "cell_type": "code",
   "execution_count": null,
   "id": "1e68ccbe",
   "metadata": {},
   "outputs": [],
   "source": []
  }
 ],
 "metadata": {
  "kernelspec": {
   "display_name": "Python 3 (ipykernel)",
   "language": "python",
   "name": "python3"
  },
  "language_info": {
   "codemirror_mode": {
    "name": "ipython",
    "version": 3
   },
   "file_extension": ".py",
   "mimetype": "text/x-python",
   "name": "python",
   "nbconvert_exporter": "python",
   "pygments_lexer": "ipython3",
   "version": "3.9.12"
  }
 },
 "nbformat": 4,
 "nbformat_minor": 5
}
